{
 "cells": [
  {
   "cell_type": "code",
   "execution_count": 17,
   "metadata": {
    "scrolled": true
   },
   "outputs": [
    {
     "data": {
      "text/plain": [
       "array([50, 51, 52, 53, 54, 55, 56, 57, 58, 59, 60, 61, 62, 63, 64, 65, 66,\n",
       "       67, 68, 69, 70, 71, 72, 73, 74, 75, 76, 77, 78, 79, 80, 81, 82, 83,\n",
       "       84, 85, 86, 87, 88, 89, 90, 91, 92, 93, 94, 95, 96, 97, 98, 99])"
      ]
     },
     "execution_count": 17,
     "metadata": {},
     "output_type": "execute_result"
    }
   ],
   "source": [
    "#1\n",
    "import numpy as np\n",
    "data2 = np.arange(50, 100)\n",
    "data2\n"
   ]
  },
  {
   "cell_type": "code",
   "execution_count": 29,
   "metadata": {
    "scrolled": false
   },
   "outputs": [
    {
     "data": {
      "text/plain": [
       "(array([0., 0., 0., 0., 0., 0., 0., 0., 0., 0.]),\n",
       " array([1., 1., 1., 1., 1., 1., 1., 1., 1., 1.]),\n",
       " array([6., 6., 6., 6., 6., 6., 6., 6., 6., 6.]))"
      ]
     },
     "execution_count": 29,
     "metadata": {},
     "output_type": "execute_result"
    }
   ],
   "source": [
    "#2\n",
    "import numpy as np\n",
    "a1 = np.zeros(10)\n",
    "a2 = np.ones(10)\n",
    "a3 = np.zeros(10)+6\n",
    "a1, a2, a3\n",
    "\n"
   ]
  },
  {
   "cell_type": "code",
   "execution_count": 18,
   "metadata": {},
   "outputs": [
    {
     "name": "stdout",
     "output_type": "stream",
     "text": [
      "[[20 21 22 23]\n",
      " [24 25 26 27]\n",
      " [28 29 30 31]]\n"
     ]
    }
   ],
   "source": [
    "#3\n",
    "import numpy as np\n",
    "data2 = np.arange(20, 32)\n",
    "a = np.reshape(data2, (3,4))\n",
    "print(a)\n",
    "\n"
   ]
  },
  {
   "cell_type": "code",
   "execution_count": 33,
   "metadata": {},
   "outputs": [
    {
     "name": "stdout",
     "output_type": "stream",
     "text": [
      "[[1. 0. 0.]\n",
      " [0. 1. 0.]\n",
      " [0. 0. 1.]]\n"
     ]
    }
   ],
   "source": [
    "#4\n",
    "import numpy as np\n",
    "x = np.eye(3)\n",
    "print(x)"
   ]
  },
  {
   "cell_type": "code",
   "execution_count": 35,
   "metadata": {
    "scrolled": true
   },
   "outputs": [
    {
     "name": "stdout",
     "output_type": "stream",
     "text": [
      "[[1 0 0 0 0]\n",
      " [0 2 0 0 0]\n",
      " [0 0 3 0 0]\n",
      " [0 0 0 4 0]\n",
      " [0 0 0 0 5]]\n"
     ]
    }
   ],
   "source": [
    "#5\n",
    "import numpy as np\n",
    "x = np.diag([1, 2, 3, 4, 5])\n",
    "\n",
    "print(x)\n"
   ]
  },
  {
   "cell_type": "code",
   "execution_count": 38,
   "metadata": {
    "scrolled": true
   },
   "outputs": [
    {
     "name": "stdout",
     "output_type": "stream",
     "text": [
      "51\n",
      "[ 7  9 13 14  8]\n",
      "[29 22]\n"
     ]
    }
   ],
   "source": [
    "#6\n",
    "import numpy as np\n",
    "a1 = [[5,5, 7,8,4], [2,4,6,6,4]]\n",
    "arr1 = np.array(a1)\n",
    "a = sum(map(sum, arr1))\n",
    "print(a)\n",
    "print(np.sum(arr1, axis = 0))\n",
    "print(np.sum(arr1, axis = 1))\n",
    "\n"
   ]
  },
  {
   "cell_type": "code",
   "execution_count": 39,
   "metadata": {},
   "outputs": [],
   "source": [
    "#7\n",
    "import numpy as np\n",
    "\n",
    "#Seasons\n",
    "Seasons = [\"2012\",\"2013\",\"2014\",\"2015\",\"2016\",\"2017\",\"2018\",\"2019\",\"2020\",\"2021\"]\n",
    "Sdict = {\"2005\":0,\"2006\":1,\"2007\":2,\"2008\":3,\"2009\":4,\"2010\":5,\"2011\":6,\"2012\":7,\"2013\":8,\"2014\":9}\n",
    "\n",
    "#Players\n",
    "Players = [\"KobeBryant\",\"JoeJohnson\",\"LeBronJames\",\"CarmeloAnthony\",\"DwightHoward\",\"ChrisBosh\",\"ChrisPaul\",\"KevinDurant\",\"DerrickRose\",\"DwayneWade\"]\n",
    "Pdict = {\"KobeBryant\":0,\"JoeJohnson\":1,\"LeBronJames\":2,\"CarmeloAnthony\":3,\"DwightHoward\":4,\"ChrisBosh\":5,\"ChrisPaul\":6,\"KevinDurant\":7,\"DerrickRose\":8,\"DwayneWade\":9}\n",
    "\n",
    "#Salaries\n",
    "KobeBryant_Salary = [27849149,30453805,23500000, 250000000,0,0,0,0,0,0]]\n",
    "JoeJohnson_Salary = [19752645,21466718,23180790, 22309344,11000000,10254904,0,0,0,0]\n",
    "LeBronJames_Salary = [17545000,19067500,20644400, 22970500,30963450,33285709,35654150,37436858,39219566,0]\n",
    "CarmeloAnthony_Salary = [19450000,22407474,22458000, 22875000,24559380,26243760,2393887,2159029,2564753,0]\n",
    "DwightHoward_Salary = [19536360,20513178,21436271,22359364,23180275, 23500000, 24256725, 5443553, 2564753, 2641691]\n",
    "ChrisBosh_Salary = [17545000,19067500,20644400,22192730, 23741060, 25289390, 26837720, 0,0,0]\n",
    "ChrisPaul_Salary = [17779458,18668431,20068563,21468695, 22868827,24268959, 35654150, 38506482, 41358814, 30800000]\n",
    "KevinDurant_Salary = [16669630,17832627,18995624,20158622, 26540100, 25000000, 30000000, 38199000, 38771513, 42018900]\n",
    "DerrickRose_Salary = [16402500,17632688,18862875, 20093064, 21323252, 2525077, 2393887, 6859756, 7682927, 13445120]\n",
    "DwayneWade_Salary = [17182000,18673000,15000000, 20000000, 23200000, 17878652, 2393887, 0,0,0]\n",
    "#Matrix\n",
    "Salary = np.array([KobeBryant_Salary, JoeJohnson_Salary, LeBronJames_Salary, CarmeloAnthony_Salary, DwightHoward_Salary, ChrisBosh_Salary, ChrisPaul_Salary, KevinDurant_Salary, DerrickRose_Salary, DwayneWade_Salary])\n",
    "\n",
    "#Games \n",
    "KobeBryant_G = [78,6,35, 66,0,0,0,0,0,0]\n",
    "JoeJohnson_G = [72,79,80, 81, 57, 24, 78, 55, 0,0,0,1]\n",
    "LeBronJames_G = [76,77,69,76, 74, 82, 55, 67, 45, 48]\n",
    "CarmeloAnthony_G = [67,77,40, 72,74,78,2,58,3,3 ]\n",
    "DwightHoward_G = [76,71,41,71, 74, 81,9, 69,69,47]\n",
    "ChrisBosh_G = [74,79,44, 53,0,0,0,0,0,0]\n",
    "ChrisPaul_G = [70,62,82,74,61,58,58,70,70,58]\n",
    "KevinDurant_G = [81,81,27, 72,62,68,78,0,32]\n",
    "DerrickRose_G = [0,10,51,66,64,25,51,50,50, 26 ]\n",
    "DwayneWade_G = [69,54,62, 74, 60, 67, 72,0,0,0]\n",
    "#Matrix\n",
    "Games = np.array([KobeBryant_G, JoeJohnson_G, LeBronJames_G, CarmeloAnthony_G, DwightHoward_G, ChrisBosh_G, ChrisPaul_G, KevinDurant_G, DerrickRose_G, DwayneWade_G])\n",
    "#Field Goals\n",
    "KobeBryant_FG = [738,31,266, 398, 0,0,0,0,0,0]\n",
    "JoeJohnson_FG = [445,462,446, 377, 273, 146, 0,0,0,1]\n",
    "LeBronJames_FG = [765,767,624, 737, 736, 857, 558, 643, 422, 536 ]\n",
    "CarmeloAnthony_FG = [669,743,358,567, 602 472, 49, 336 ]\n",
    "DwightHoward_FG = [470,473,251, 372,388,506,43,202,178,9]\n",
    "ChrisBosh_FG = [485,492,343,358,0,0,0,0,0,0]\n",
    "ChrisPaul_FG = [412,406,568,515, 374, 367, 302, 434, 439, 325]\n",
    "KevinDurant_FG = [731,849,238,698, 551, 630, 721,0, 324, 417]\n",
    "DerrickRose_FG = [0,58,338,447, 460, 162, 363, 369, 287,122 ]\n",
    "DwayneWade_FG = [569,415,509, 540, 414, 508, 416,0,0,0]\n",
    "#Matrix\n",
    "FieldGoals  = np.array([KobeBryant_FG, JoeJohnson_FG, LeBronJames_FG, CarmeloAnthony_FG, DwightHoward_FG, ChrisBosh_FG, ChrisPaul_FG, KevinDurant_FG, DerrickRose_FG, DwayneWade_FG])\n"
   ]
  },
  {
   "cell_type": "code",
   "execution_count": 42,
   "metadata": {},
   "outputs": [
    {
     "name": "stdout",
     "output_type": "stream",
     "text": [
      "[ 50299635  57248613  98406186 120776420 139835227 144667149 166489555\n",
      " 189711742 205782921 204790923]\n",
      "[229306822 166205113 141461033 151622715 140546503 138008113 116051459\n",
      "  88510296  75445211 130851106]\n"
     ]
    }
   ],
   "source": [
    "import numpy as np\n",
    "arr1 = np.array(Salary)\n",
    "print(np.sum(arr1, axis = 0))\n",
    "print(np.sum(arr1, axis = 1))"
   ]
  },
  {
   "cell_type": "code",
   "execution_count": 43,
   "metadata": {},
   "outputs": [
    {
     "name": "stdout",
     "output_type": "stream",
     "text": [
      "[5878 5248 5898 6639 6416 6383 4654 5284 4696 3941]\n",
      "[6431 5360 7533 6293 4876 5051 4604 5826 3279 5784]\n"
     ]
    }
   ],
   "source": [
    "import numpy as np\n",
    "arr1 = np.array(FieldGoals)\n",
    "print(np.sum(arr1, axis = 0))\n",
    "print(np.sum(arr1, axis = 1))"
   ]
  },
  {
   "cell_type": "code",
   "execution_count": 44,
   "metadata": {},
   "outputs": [
    {
     "name": "stdout",
     "output_type": "stream",
     "text": [
      "[701 618 716 776 728 780 560 663 596 531]\n",
      "[653 739 752 673 727 684 699 639 460 643]\n"
     ]
    }
   ],
   "source": [
    "import numpy as np\n",
    "arr1 = np.array(Games)\n",
    "print(np.sum(arr1, axis = 0))\n",
    "print(np.sum(arr1, axis = 1))"
   ]
  },
  {
   "cell_type": "code",
   "execution_count": null,
   "metadata": {},
   "outputs": [],
   "source": []
  }
 ],
 "metadata": {
  "kernelspec": {
   "display_name": "Python 3",
   "language": "python",
   "name": "python3"
  },
  "language_info": {
   "codemirror_mode": {
    "name": "ipython",
    "version": 3
   },
   "file_extension": ".py",
   "mimetype": "text/x-python",
   "name": "python",
   "nbconvert_exporter": "python",
   "pygments_lexer": "ipython3",
   "version": "3.8.5"
  }
 },
 "nbformat": 4,
 "nbformat_minor": 4
}
